{
 "cells": [
  {
   "cell_type": "code",
   "execution_count": 17,
   "metadata": {},
   "outputs": [],
   "source": [
    "import ipywidgets as widgets\n",
    "from ipywidgets import interact, interactive, fixed, interact_manual\n",
    "\n",
    "import numpy as np\n",
    "from sklearn.linear_model import LogisticRegression\n",
    "from sklearn.feature_extraction.text import CountVectorizer, TfidfVectorizer\n",
    "import sentiment as st"
   ]
  },
  {
   "cell_type": "code",
   "execution_count": 7,
   "metadata": {},
   "outputs": [
    {
     "name": "stdout",
     "output_type": "stream",
     "text": [
      "-- train data\n",
      "sentiment/train.tsv\n",
      "4582\n",
      "-- dev data\n",
      "sentiment/dev.tsv\n",
      "458\n",
      "-- unlabeled data\n",
      "sentiment/unlabeled.tsv\n",
      "91524\n"
     ]
    }
   ],
   "source": [
    "sentiment = st.read_raw_sentiment('data/sentiment.tar.gz')"
   ]
  },
  {
   "cell_type": "code",
   "execution_count": 8,
   "metadata": {},
   "outputs": [],
   "source": [
    "class FeatureVectorizer:\n",
    "\n",
    "  def __init__(self, train_data, vectorizer_option, ngram_range, binary=False):\n",
    "    self.train_data = train_data\n",
    "    self.vectorizer_option = vectorizer_option\n",
    "    \n",
    "    kwargs = {\n",
    "      'ngram_range': ngram_range,\n",
    "      'binary': binary,\n",
    "    }\n",
    "    \n",
    "    if vectorizer_option == 'tfidf':\n",
    "      self.vectorizer = TfidfVectorizer(smooth_idf=True, **kwargs)\n",
    "    elif vectorizer_option == 'count':\n",
    "      self.vectorizer = CountVectorizer(**kwargs)\n",
    "    else:\n",
    "      options = ['tfidf', 'count']\n",
    "      raise ValueError('Options are:' + str(options))\n",
    "      \n",
    "    self.vectorizer.fit(self.train_data)\n",
    "    \n",
    "  def transform(self, processed_documents):\n",
    "    \"\"\"\n",
    "    Turn processed documents into feature matrix\n",
    "    \"\"\"\n",
    "    return self.vectorizer.transform(processed_documents)\n",
    "  \n",
    "  def get_feature_names(self):\n",
    "    return self.vectorizer.get_feature_names()"
   ]
  },
  {
   "cell_type": "code",
   "execution_count": 12,
   "metadata": {},
   "outputs": [
    {
     "name": "stderr",
     "output_type": "stream",
     "text": [
      "/anaconda3/lib/python3.7/site-packages/sklearn/linear_model/logistic.py:433: FutureWarning: Default solver will be changed to 'lbfgs' in 0.22. Specify a solver to silence this warning.\n",
      "  FutureWarning)\n"
     ]
    },
    {
     "data": {
      "text/plain": [
       "LogisticRegression(C=1.0, class_weight=None, dual=False, fit_intercept=True,\n",
       "          intercept_scaling=1, max_iter=100, multi_class='warn',\n",
       "          n_jobs=None, penalty='l2', random_state=None, solver='warn',\n",
       "          tol=0.0001, verbose=0, warm_start=False)"
      ]
     },
     "execution_count": 12,
     "metadata": {},
     "output_type": "execute_result"
    }
   ],
   "source": [
    "fv = FeatureVectorizer(sentiment.train_data, 'count', (1,1))\n",
    "trainX = fv.transform(sentiment.train_data)\n",
    "trainy = sentiment.trainy\n",
    "\n",
    "clf = LogisticRegression()\n",
    "clf.fit(trainX, trainy)"
   ]
  },
  {
   "cell_type": "code",
   "execution_count": 42,
   "metadata": {},
   "outputs": [],
   "source": [
    "def predict(sentence):\n",
    "  x = fv.transform([sentence])\n",
    "  preds = clf.predict(x)\n",
    "  probs = clf.predict_proba(x)\n",
    "  print(\"Prediction:\", preds[0])\n",
    "  print(\"Prob negative:\", probs[0][0])\n",
    "  print(\"Prob pos:\", probs[0][1])"
   ]
  },
  {
   "cell_type": "code",
   "execution_count": 43,
   "metadata": {},
   "outputs": [
    {
     "data": {
      "application/vnd.jupyter.widget-view+json": {
       "model_id": "cd25e536eb8b4f2387a1a6723fbd526b",
       "version_major": 2,
       "version_minor": 0
      },
      "text/plain": [
       "interactive(children=(Text(value='Hello what is this', description='sentence'), Output()), _dom_classes=('widg…"
      ]
     },
     "metadata": {},
     "output_type": "display_data"
    },
    {
     "data": {
      "text/plain": [
       "<function __main__.predict(sentence)>"
      ]
     },
     "execution_count": 43,
     "metadata": {},
     "output_type": "execute_result"
    }
   ],
   "source": [
    "interact(predict, sentence=\"Hello what is this\")"
   ]
  }
 ],
 "metadata": {
  "kernelspec": {
   "display_name": "Python 3",
   "language": "python",
   "name": "python3"
  },
  "language_info": {
   "codemirror_mode": {
    "name": "ipython",
    "version": 3
   },
   "file_extension": ".py",
   "mimetype": "text/x-python",
   "name": "python",
   "nbconvert_exporter": "python",
   "pygments_lexer": "ipython3",
   "version": "3.7.3"
  }
 },
 "nbformat": 4,
 "nbformat_minor": 2
}
